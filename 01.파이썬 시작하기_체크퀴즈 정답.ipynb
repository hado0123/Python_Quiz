{
 "cells": [
  {
   "cell_type": "markdown",
   "id": "def1756c-c781-4fb7-ab8c-47e6623e2140",
   "metadata": {},
   "source": [
    "## 체크 퀴즈 2번\n",
    "\n",
    "# 껍질째 구운 감자, 쌀밥 대신 먹었더니… 허리 ‘쏘옥’ 혈당 ‘뚝’\n",
    "\n",
    "![감자요리](https://imgnews.pstatic.net/image/020/2024/08/13/0003581603_001_20240813084616934.jpg?type=w647)\n",
    "\n",
    "높은 탄수화물 함량 때문에 다이어트 식품 목록에서 제외되기 쉬운 `감자가 혈당 관리와 심장 건강 개선에 매우 효과적인 것`으로 나타났다. 특히 삶은 것보다 껍질째 구워 먹을 때 건강상 이점이 가장 컸다.\n",
    "\n",
    "미국 라스베이거스 네바다대학(UNLV) 운동과학·영양과학과 네다 아카반 교수는 감자를 적절하게 조리하면 허리둘레를 줄이고 성인 제2형 당뇨병 환자의 혈당을 낮추기에 충분한 영양소를 함유하고 있다는 새로운 연구결과최근 **감자교육연합**에 발표했다.\n",
    "\n",
    "이후 검사를 통해 **감자를 섭취한 연구 참가자의 공복 혈당 수치가 소폭 감소**한 것으로 나타났다. 이들은 또한 체 성분, 허리둘레, 안정 시 심박 수도 줄어든 것으로 나타났다.\n",
    "\n",
    "___\n",
    "\n",
    "\n",
    ">[감자 구매 링크](https://hcnong.com/home/root/index.php)\n",
    "\n"
   ]
  },
  {
   "cell_type": "code",
   "execution_count": null,
   "id": "497d94bf-d7c1-4c6b-b349-17778d68b1b0",
   "metadata": {},
   "outputs": [],
   "source": []
  }
 ],
 "metadata": {
  "kernelspec": {
   "display_name": "Python 3 (ipykernel)",
   "language": "python",
   "name": "python3"
  },
  "language_info": {
   "codemirror_mode": {
    "name": "ipython",
    "version": 3
   },
   "file_extension": ".py",
   "mimetype": "text/x-python",
   "name": "python",
   "nbconvert_exporter": "python",
   "pygments_lexer": "ipython3",
   "version": "3.12.4"
  }
 },
 "nbformat": 4,
 "nbformat_minor": 5
}
