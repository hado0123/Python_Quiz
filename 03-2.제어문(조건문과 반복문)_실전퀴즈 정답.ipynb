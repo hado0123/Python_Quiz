{
 "cells": [
  {
   "cell_type": "markdown",
   "id": "2fbcfe3b-2e59-44ed-a497-ee4697258c9e",
   "metadata": {},
   "source": [
    "### 1. 초중급 Level"
   ]
  },
  {
   "cell_type": "code",
   "execution_count": 50,
   "id": "d490ae18-7380-4ad5-9393-f16a2d5b9a7c",
   "metadata": {},
   "outputs": [
    {
     "name": "stdout",
     "output_type": "stream",
     "text": [
      "점심을 먹습니다.\n"
     ]
    }
   ],
   "source": [
    "# 1번\n",
    "\n",
    "time = 14\n",
    "\n",
    "if time >= 6 and time <= 10:\n",
    "    print(\"아침을 먹습니다.\")\n",
    "elif time >= 11 and time <= 14:\n",
    "    print(\"점심을 먹습니다.\")\n",
    "elif time >= 15 and time <= 17:\n",
    "    print(\"간식을 먹습니다.\")\n",
    "elif time >= 18 and time <= 20:\n",
    "    print(\"저녁을 먹습니다.\")\n",
    "else:\n",
    "    print(\"식사 시간이 아닙니다.\")"
   ]
  },
  {
   "cell_type": "code",
   "execution_count": 52,
   "id": "fed941e1-e617-4939-9ea6-4b6acc2397d8",
   "metadata": {},
   "outputs": [
    {
     "name": "stdout",
     "output_type": "stream",
     "text": [
      "1683\n"
     ]
    }
   ],
   "source": [
    "# 2번 \n",
    "\n",
    "i = 1\n",
    "sum = 0\n",
    "\n",
    "while i <= 100:\n",
    "    if i % 3 == 0:\n",
    "        sum += i\n",
    "    i += 1\n",
    "\n",
    "print(sum)"
   ]
  },
  {
   "cell_type": "code",
   "execution_count": 54,
   "id": "d8c24362-ac52-4b3b-ad37-a452ff165e49",
   "metadata": {},
   "outputs": [
    {
     "name": "stdout",
     "output_type": "stream",
     "text": [
      "73\n"
     ]
    }
   ],
   "source": [
    "# 3번\n",
    "\n",
    "sum = 0\n",
    "i = 1\n",
    "\n",
    "while i <= 20:\n",
    "    # 2의 배수도 아니고 3의 배수도 아닌 경우\n",
    "    if i % 2 != 0 and i % 3 != 0:\n",
    "        sum += i  \n",
    "    i += 1  \n",
    "\n",
    "print(sum)"
   ]
  },
  {
   "cell_type": "code",
   "execution_count": 48,
   "id": "60a520dc-d3d9-4da5-abc1-68d50b80ca52",
   "metadata": {},
   "outputs": [
    {
     "name": "stdout",
     "output_type": "stream",
     "text": [
      "5\n",
      "10\n",
      "20\n",
      "25\n",
      "50\n"
     ]
    }
   ],
   "source": [
    "# 4번\n",
    "\n",
    "numbers = [1, 5, 10, 13, 14, 20, 25, 32, 50] \n",
    "\n",
    "for i in numbers:\n",
    "    if i % 5 == 0: print(i)"
   ]
  },
  {
   "cell_type": "code",
   "execution_count": 58,
   "id": "fa56af9a-70d2-4f0f-b9a2-d0a4947859f0",
   "metadata": {},
   "outputs": [
    {
     "name": "stdout",
     "output_type": "stream",
     "text": [
      "평균 67.14285714285714\n"
     ]
    }
   ],
   "source": [
    "# 5번\n",
    "\n",
    "scores = [70, 60, 55, 75, 40, 80, 90]\n",
    "total = 0\n",
    "\n",
    "for score in scores:\n",
    "    total += score\n",
    "\n",
    "average = total / len(scores)\n",
    "\n",
    "print(\"평균\", average)"
   ]
  },
  {
   "cell_type": "code",
   "execution_count": 108,
   "id": "a7d2e585-080c-42ae-a928-acd1d2050a27",
   "metadata": {},
   "outputs": [
    {
     "name": "stdin",
     "output_type": "stream",
     "text": [
      " 1\n",
      " 4\n"
     ]
    },
    {
     "name": "stdout",
     "output_type": "stream",
     "text": [
      "num1:1, num2:4\n"
     ]
    }
   ],
   "source": [
    "# 6번\n",
    "\n",
    "while True: \n",
    "    num1 = int(input())\n",
    "    num2 = int(input())\n",
    "    print(f'num1:{num1}, num2:{num2}')\n",
    "\n",
    "    if num1 + num2 == 5: break"
   ]
  },
  {
   "cell_type": "code",
   "execution_count": 106,
   "id": "b18f1187-b737-4a4f-8485-dc2708f662f4",
   "metadata": {},
   "outputs": [
    {
     "name": "stdout",
     "output_type": "stream",
     "text": [
      "i:1, j:5\n",
      "i:2, j:4\n",
      "i:3, j:3\n",
      "i:4, j:2\n",
      "i:5, j:1\n"
     ]
    }
   ],
   "source": [
    "# 7번 \n",
    "for i in range(1, 7):\n",
    "    for j in range(1, 7):\n",
    "        if i + j == 6: print(f'i:{i}, j:{j}')"
   ]
  },
  {
   "cell_type": "code",
   "execution_count": 70,
   "id": "304cd81f-f1b1-431a-a974-65d97150f945",
   "metadata": {},
   "outputs": [
    {
     "name": "stdout",
     "output_type": "stream",
     "text": [
      "x=5, y=8\n",
      "x=10, y=4\n"
     ]
    }
   ],
   "source": [
    "# 8번\n",
    "for x in range(1, 11):\n",
    "    for y in range(1, 11):\n",
    "        if 4 * x + 5 * y == 60: print(f'x={x}, y={y}')"
   ]
  },
  {
   "cell_type": "code",
   "execution_count": 74,
   "id": "553b82fb-1500-44fa-ac01-50028bb91731",
   "metadata": {},
   "outputs": [
    {
     "name": "stdout",
     "output_type": "stream",
     "text": [
      "*\n",
      "**\n",
      "***\n",
      "****\n",
      "*****\n"
     ]
    }
   ],
   "source": [
    "# 9번\n",
    "\n",
    "for i in range(1, 6):\n",
    "    print('*' * i)\n"
   ]
  },
  {
   "cell_type": "markdown",
   "id": "1a757dde-09c5-46e5-81f1-a98a06c40084",
   "metadata": {},
   "source": [
    "### 2. 고급 Level"
   ]
  },
  {
   "cell_type": "code",
   "execution_count": 94,
   "id": "4559d6c9-df58-4e23-a488-d52e3cf357f0",
   "metadata": {},
   "outputs": [
    {
     "name": "stdout",
     "output_type": "stream",
     "text": [
      "피보나치 수열의 10번째 수는: 55\n"
     ]
    }
   ],
   "source": [
    "# 1번\n",
    "\n",
    "# 초기값 설정\n",
    "a = 1 # 첫번째 값\n",
    "b = 1 # 두번째 값\n",
    "c = 0 # 세번째 값\n",
    "\n",
    "for _ in range(8):  # 이미 두 개의 숫자(1, 1)를 알고 있으므로 8번만 반복\n",
    "    c = a + b\n",
    "    a = b\n",
    "    b = c\n",
    "\n",
    "print(\"피보나치 수열의 10번째 수는:\", b)\n"
   ]
  },
  {
   "cell_type": "code",
   "execution_count": 84,
   "id": "40acbe5f-8bb1-4310-889b-9377c4fe4a3f",
   "metadata": {},
   "outputs": [
    {
     "name": "stdout",
     "output_type": "stream",
     "text": [
      "*****\n",
      "****\n",
      "***\n",
      "**\n",
      "*\n"
     ]
    }
   ],
   "source": [
    "# 2번\n",
    "\n",
    "for i in range(5, 0, -1):\n",
    "    print('*' * i)"
   ]
  },
  {
   "cell_type": "code",
   "execution_count": 117,
   "id": "90d00f77-bb2a-46c3-a7ac-db3575021752",
   "metadata": {},
   "outputs": [
    {
     "name": "stdout",
     "output_type": "stream",
     "text": [
      "    *\n",
      "   **\n",
      "  ***\n",
      " ****\n",
      "*****\n"
     ]
    }
   ],
   "source": [
    "# 3번\n",
    "\n",
    "n = 5\n",
    "for i in range(1, n + 1):\n",
    "    print(' ' * (n - i) + '*' * i)"
   ]
  },
  {
   "cell_type": "code",
   "execution_count": 121,
   "id": "0b2ffd3b-b362-41f9-9df9-17a22db7b110",
   "metadata": {},
   "outputs": [
    {
     "name": "stdout",
     "output_type": "stream",
     "text": [
      "\n",
      "---------------------\n",
      "    1. 예금\n",
      "    2. 출금\n",
      "    3. 잔고\n",
      "    4. 종료\n",
      "---------------------\n",
      "\n"
     ]
    },
    {
     "name": "stdin",
     "output_type": "stream",
     "text": [
      " 1\n",
      "예금액:  10000\n"
     ]
    },
    {
     "name": "stdout",
     "output_type": "stream",
     "text": [
      "\n",
      "---------------------\n",
      "    1. 예금\n",
      "    2. 출금\n",
      "    3. 잔고\n",
      "    4. 종료\n",
      "---------------------\n",
      "\n"
     ]
    },
    {
     "name": "stdin",
     "output_type": "stream",
     "text": [
      " 2\n",
      "출금액:  5000\n"
     ]
    },
    {
     "name": "stdout",
     "output_type": "stream",
     "text": [
      "\n",
      "---------------------\n",
      "    1. 예금\n",
      "    2. 출금\n",
      "    3. 잔고\n",
      "    4. 종료\n",
      "---------------------\n",
      "\n"
     ]
    },
    {
     "name": "stdin",
     "output_type": "stream",
     "text": [
      " 3\n"
     ]
    },
    {
     "name": "stdout",
     "output_type": "stream",
     "text": [
      "잔고:  5000\n",
      "\n",
      "---------------------\n",
      "    1. 예금\n",
      "    2. 출금\n",
      "    3. 잔고\n",
      "    4. 종료\n",
      "---------------------\n",
      "\n"
     ]
    },
    {
     "name": "stdin",
     "output_type": "stream",
     "text": [
      " 4\n"
     ]
    },
    {
     "name": "stdout",
     "output_type": "stream",
     "text": [
      "프로그램 종료\n"
     ]
    }
   ],
   "source": [
    "# 4번\n",
    "\n",
    "run = True\n",
    "balance = 0\n",
    "menu = '''\n",
    "---------------------\n",
    "    1. 예금\n",
    "    2. 출금\n",
    "    3. 잔고\n",
    "    4. 종료\n",
    "---------------------\n",
    "'''\n",
    "\n",
    "\n",
    "while run: \n",
    "    print(menu)\n",
    "    menu_num = int(input())\n",
    "    if menu_num == 1:\n",
    "        # print('예금액: ')\n",
    "        balance += int(input('예금액: '))\n",
    "    elif menu_num == 2:\n",
    "        # print('출금액: ')\n",
    "        balance -= int(input('출금액: '))\n",
    "    elif menu_num == 3:\n",
    "        # print('잔고: ')\n",
    "        print('잔고: ', balance)\n",
    "    elif menu_num == 4:\n",
    "        run = False\n",
    "    else:\n",
    "        print('메뉴를 잘못 누르셨습니다.')\n",
    "\n",
    "print('프로그램 종료')"
   ]
  },
  {
   "cell_type": "code",
   "execution_count": null,
   "id": "e23cf069-34e5-4cc8-a08e-198fbc87c728",
   "metadata": {},
   "outputs": [],
   "source": []
  }
 ],
 "metadata": {
  "kernelspec": {
   "display_name": "Python 3 (ipykernel)",
   "language": "python",
   "name": "python3"
  },
  "language_info": {
   "codemirror_mode": {
    "name": "ipython",
    "version": 3
   },
   "file_extension": ".py",
   "mimetype": "text/x-python",
   "name": "python",
   "nbconvert_exporter": "python",
   "pygments_lexer": "ipython3",
   "version": "3.12.4"
  }
 },
 "nbformat": 4,
 "nbformat_minor": 5
}
