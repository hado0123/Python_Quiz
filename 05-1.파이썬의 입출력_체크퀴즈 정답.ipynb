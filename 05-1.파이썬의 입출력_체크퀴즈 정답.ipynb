{
 "cells": [
  {
   "cell_type": "markdown",
   "id": "34e0c2a0-cc54-4c52-b710-f0b8af74e13a",
   "metadata": {},
   "source": [
    "### 1. 사용자 입출력"
   ]
  },
  {
   "cell_type": "code",
   "execution_count": 10,
   "id": "28032f85-e3be-44a0-a637-bc42591cc976",
   "metadata": {},
   "outputs": [
    {
     "name": "stdout",
     "output_type": "stream",
     "text": [
      "눈부신 하늘 아래 시계가 열셋을 가리키고 있었다\n"
     ]
    }
   ],
   "source": [
    "# 1번\n",
    "\n",
    "print(\"눈부신\" \" 하늘 아래\" \" 시계가\" \" 열셋을\" \" 가리키고\" \" 있었다\")"
   ]
  },
  {
   "cell_type": "code",
   "execution_count": 12,
   "id": "6743694c-9842-4c07-a1de-cb1ec5cb227c",
   "metadata": {},
   "outputs": [
    {
     "name": "stdout",
     "output_type": "stream",
     "text": [
      "눈부신 하늘 아래 시계가 열셋을 가리키고 있었다\n"
     ]
    }
   ],
   "source": [
    "# 2번\n",
    "\n",
    "print(\"눈부신\" + \" 하늘 아래\" + \" 시계가\" + \" 열셋을\" + \" 가리키고\" + \" 있었다\")"
   ]
  },
  {
   "cell_type": "code",
   "execution_count": 14,
   "id": "147732e9-3252-4a4c-90ae-65ea2e440463",
   "metadata": {},
   "outputs": [
    {
     "name": "stdout",
     "output_type": "stream",
     "text": [
      "눈부신 하늘 아래 시계가 열셋을 가리키고 있었다\n"
     ]
    }
   ],
   "source": [
    "# 3번\n",
    "\n",
    "print(\"눈부신\", \"하늘 아래\", \"시계가\", \"열셋을\", \"가리키고\", \"있었다\")"
   ]
  },
  {
   "cell_type": "markdown",
   "id": "e0d3f794-6f40-4e47-82a5-1041a8134122",
   "metadata": {},
   "source": [
    "### 2. 파일 읽고 쓰기"
   ]
  },
  {
   "cell_type": "code",
   "execution_count": 25,
   "id": "ea67d453-576a-46c4-9efe-0bdaf9631102",
   "metadata": {},
   "outputs": [],
   "source": [
    "# 1번\n",
    "\n",
    "f = open(\"C:/doit/체크 퀴즈.txt\", 'w')\n",
    "for i in range(1, 10):\n",
    "    data = f'2 x {i} = {2 * i}\\n'\n",
    "    f.write(data)\n",
    "f.close()"
   ]
  },
  {
   "cell_type": "code",
   "execution_count": 27,
   "id": "cb973c7c-65e5-4f09-89d5-8f8a4eade95f",
   "metadata": {},
   "outputs": [
    {
     "name": "stdout",
     "output_type": "stream",
     "text": [
      "2 x 1 = 2\n",
      "\n",
      "2 x 2 = 4\n",
      "\n",
      "2 x 3 = 6\n",
      "\n",
      "2 x 4 = 8\n",
      "\n",
      "2 x 5 = 10\n",
      "\n",
      "2 x 6 = 12\n",
      "\n",
      "2 x 7 = 14\n",
      "\n",
      "2 x 8 = 16\n",
      "\n",
      "2 x 9 = 18\n",
      "\n"
     ]
    }
   ],
   "source": [
    "# 2번\n",
    "\n",
    "f = open(\"C:/doit/체크 퀴즈.txt\", 'r')\n",
    "while True:\n",
    "    line = f.readline()\n",
    "    if not line: break\n",
    "    print(line)# 줄바꿈 문자 \\n이 포함\n",
    "f.close()\n"
   ]
  },
  {
   "cell_type": "code",
   "execution_count": 29,
   "id": "d84974e8-cc52-4c21-99d3-7e52747b2f98",
   "metadata": {},
   "outputs": [
    {
     "name": "stdout",
     "output_type": "stream",
     "text": [
      "2 x 1 = 2\n",
      "2 x 2 = 4\n",
      "2 x 3 = 6\n",
      "2 x 4 = 8\n",
      "2 x 5 = 10\n",
      "2 x 6 = 12\n",
      "2 x 7 = 14\n",
      "2 x 8 = 16\n",
      "2 x 9 = 18\n"
     ]
    }
   ],
   "source": [
    "# 3번\n",
    "\n",
    "f = open(\"C:/doit/체크 퀴즈.txt\", 'r')\n",
    "lines = f.readlines()\n",
    "for line in lines:\n",
    "    line = line.strip() # 줄 끝의 줄 바꿈 문자를 제거\n",
    "    print(line)\n",
    "f.close()"
   ]
  },
  {
   "cell_type": "code",
   "execution_count": 31,
   "id": "3a8b6be0-3283-4b9c-a585-fe07d0cca4d0",
   "metadata": {},
   "outputs": [
    {
     "name": "stdout",
     "output_type": "stream",
     "text": [
      "2 x 1 = 2\n",
      "2 x 2 = 4\n",
      "2 x 3 = 6\n",
      "2 x 4 = 8\n",
      "2 x 5 = 10\n",
      "2 x 6 = 12\n",
      "2 x 7 = 14\n",
      "2 x 8 = 16\n",
      "2 x 9 = 18\n",
      "\n"
     ]
    }
   ],
   "source": [
    "# 4번\n",
    "\n",
    "f = open(\"C:/doit/체크 퀴즈.txt\", 'r')\n",
    "data = f.read()\n",
    "print(data)\n",
    "f.close()"
   ]
  },
  {
   "cell_type": "code",
   "execution_count": 43,
   "id": "7248174e-7f07-4113-af5c-8e0539d89d85",
   "metadata": {},
   "outputs": [],
   "source": [
    "# 5번\n",
    "\n",
    "f = open(\"C:/doit/체크 퀴즈.txt\",'a')\n",
    "for i in range(3, 10):\n",
    "    for j in range(1, 10):\n",
    "        data = f'{i} x {j} = {i * j}\\n'\n",
    "        f.write(data)\n",
    "f.close()"
   ]
  },
  {
   "cell_type": "code",
   "execution_count": null,
   "id": "4f799067-7ac8-4aa6-b4d2-b9f781003ad9",
   "metadata": {},
   "outputs": [],
   "source": []
  }
 ],
 "metadata": {
  "kernelspec": {
   "display_name": "Python 3 (ipykernel)",
   "language": "python",
   "name": "python3"
  },
  "language_info": {
   "codemirror_mode": {
    "name": "ipython",
    "version": 3
   },
   "file_extension": ".py",
   "mimetype": "text/x-python",
   "name": "python",
   "nbconvert_exporter": "python",
   "pygments_lexer": "ipython3",
   "version": "3.12.4"
  }
 },
 "nbformat": 4,
 "nbformat_minor": 5
}
