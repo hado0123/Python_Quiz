{
 "cells": [
  {
   "cell_type": "markdown",
   "id": "1f7b98eb-6237-4ca0-a9f3-6201a7f373f7",
   "metadata": {},
   "source": [
    "## 체크퀴즈\n",
    "### 1. 숫자형"
   ]
  },
  {
   "cell_type": "code",
   "execution_count": 19,
   "id": "6c33edb5-2121-4cb7-98ed-129f6f5b511a",
   "metadata": {},
   "outputs": [],
   "source": [
    "#1번: 3.5\n",
    "#2번: 3\n",
    "#3번: 8"
   ]
  },
  {
   "cell_type": "code",
   "execution_count": 16,
   "id": "a70d1b51-230a-43dc-bcf9-d31cb5509e67",
   "metadata": {},
   "outputs": [
    {
     "name": "stdout",
     "output_type": "stream",
     "text": [
      "3262\n"
     ]
    }
   ],
   "source": [
    "#4번\n",
    "num = 10 * 18**2 + 2 *11\n",
    "print(num)"
   ]
  },
  {
   "cell_type": "code",
   "execution_count": 23,
   "id": "81c900f7-72af-4028-bb15-e46f6ed624d1",
   "metadata": {},
   "outputs": [
    {
     "name": "stdout",
     "output_type": "stream",
     "text": [
      "4\n",
      "2\n"
     ]
    }
   ],
   "source": [
    "#5번\n",
    "print(14 // 3) \n",
    "print(14 % 3)"
   ]
  },
  {
   "cell_type": "markdown",
   "id": "a7a6a4ae-1920-4aab-8da2-72b523d12591",
   "metadata": {},
   "source": [
    "### 2.문자열"
   ]
  },
  {
   "cell_type": "code",
   "execution_count": 24,
   "id": "399837a3-d367-480c-81f5-c777a87097e9",
   "metadata": {},
   "outputs": [
    {
     "name": "stdout",
     "output_type": "stream",
     "text": [
      " \n",
      "그녀가 말했다. \"안녕! 디오.\" 라고\n",
      "나는 아무런 말도 할 수가 없었다.\n",
      "이런 나를 보며 그녀는 싱긋 웃었다.\n",
      "\n"
     ]
    }
   ],
   "source": [
    "# 1번\n",
    "str = ''' \n",
    "그녀가 말했다. \"안녕! 디오.\" 라고\n",
    "나는 아무런 말도 할 수가 없었다.\n",
    "이런 나를 보며 그녀는 싱긋 웃었다.\n",
    "'''\n",
    "\n",
    "print(str)"
   ]
  },
  {
   "cell_type": "code",
   "execution_count": 26,
   "id": "f410380a-bbc5-4f22-b394-b4108cd31cf7",
   "metadata": {},
   "outputs": [
    {
     "name": "stdout",
     "output_type": "stream",
     "text": [
      "안녕!디오.디오.디오.\n"
     ]
    }
   ],
   "source": [
    "# 2번\n",
    "str1 = \"안녕!\"\n",
    "str2 = \"디오.\"\n",
    "\n",
    "print(str1 + str2 * 3)"
   ]
  },
  {
   "cell_type": "code",
   "execution_count": 36,
   "id": "39701025-111d-4817-94f8-5887b39a42c4",
   "metadata": {},
   "outputs": [
    {
     "name": "stdout",
     "output_type": "stream",
     "text": [
      "그녀\n",
      "싱긋 웃었다.\n"
     ]
    }
   ],
   "source": [
    "# 3번\n",
    "str = '이런 나를 보며 그녀는 싱긋 웃었다.'\n",
    "\n",
    "print(str[9:11])\n",
    "print(str[13:])"
   ]
  },
  {
   "cell_type": "code",
   "execution_count": 44,
   "id": "c1a3f625-3c2d-4300-9f0a-6b43d44bd198",
   "metadata": {},
   "outputs": [
    {
     "name": "stdout",
     "output_type": "stream",
     "text": [
      "!!!python!!!\n",
      "!!!python!!!\n"
     ]
    }
   ],
   "source": [
    "# 4번\n",
    "print(f'{\"python\":!^12}')\n",
    "print(\"{0:!^12}\".format('python'))"
   ]
  },
  {
   "cell_type": "code",
   "execution_count": 46,
   "id": "926b15bd-4fd7-409a-ac94-27a39d3ae471",
   "metadata": {},
   "outputs": [
    {
     "name": "stdout",
     "output_type": "stream",
     "text": [
      "이런 나를 보며 그는 싱긋 웃었다.\n"
     ]
    }
   ],
   "source": [
    "# 5번\n",
    "str = '이런 나를 보며 그녀는 싱긋 웃었다.'\n",
    "\n",
    "print(str.replace(\"그녀\", \"그\"))"
   ]
  },
  {
   "cell_type": "code",
   "execution_count": 48,
   "id": "89cd19a4-f62f-4cd5-97b4-9796f36efea5",
   "metadata": {},
   "outputs": [
    {
     "name": "stdout",
     "output_type": "stream",
     "text": [
      "['이지은', '아이유', '가수', '배우']\n"
     ]
    }
   ],
   "source": [
    "# 6번\n",
    "str = '이지은/아이유/가수/배우'\n",
    "\n",
    "print(str.split(\"/\"))"
   ]
  },
  {
   "cell_type": "markdown",
   "id": "d9bed078-90ea-4d45-98b2-5ce330eb286b",
   "metadata": {},
   "source": [
    "### 3. 리스트"
   ]
  },
  {
   "cell_type": "code",
   "execution_count": 17,
   "id": "d6246dba-57d5-4527-bfc1-56979fb93fb1",
   "metadata": {},
   "outputs": [
    {
     "name": "stdout",
     "output_type": "stream",
     "text": [
      "짱구\n",
      "맹구\n"
     ]
    }
   ],
   "source": [
    "# 1번\n",
    "student = [\"짱구\", \"철수\", \"훈이\", \"맹구\", \"유리\"]\n",
    "print(student[0])\n",
    "print(student[3])"
   ]
  },
  {
   "cell_type": "code",
   "execution_count": 15,
   "id": "bb8468a6-5c56-4435-bf0a-bf9c63801358",
   "metadata": {},
   "outputs": [
    {
     "name": "stdout",
     "output_type": "stream",
     "text": [
      "훈이\n",
      "유리\n"
     ]
    }
   ],
   "source": [
    "# 2번\n",
    "student = [\"짱구\", \"철수\", [\"훈이\", \"맹구\", \"유리\"]]\n",
    "print(student[2][0])\n",
    "print(student[2][2])"
   ]
  },
  {
   "cell_type": "code",
   "execution_count": 19,
   "id": "0700c908-0aeb-4589-80bb-d801d73ccf6c",
   "metadata": {},
   "outputs": [
    {
     "name": "stdout",
     "output_type": "stream",
     "text": [
      "['훈이', '맹구']\n"
     ]
    }
   ],
   "source": [
    "# 3번\n",
    "student = [\"짱구\", \"철수\", \"훈이\", \"맹구\", \"유리\"]\n",
    "result = student[2:4]\n",
    "print(result)"
   ]
  },
  {
   "cell_type": "code",
   "execution_count": 21,
   "id": "4d3961c3-d518-4635-a963-35a641ea5d12",
   "metadata": {},
   "outputs": [
    {
     "name": "stdout",
     "output_type": "stream",
     "text": [
      "['짱구', '짱아', '신형만', '봉미선']\n"
     ]
    }
   ],
   "source": [
    "# 4번\n",
    "children = [\"짱구\", \"짱아\"]\n",
    "parent = [\"신형만\", \"봉미선\"]\n",
    "\n",
    "family = children + parent\n",
    "print(family)"
   ]
  },
  {
   "cell_type": "code",
   "execution_count": 25,
   "id": "85d3e99b-4ac1-43cf-bd22-597a320b43d2",
   "metadata": {},
   "outputs": [
    {
     "name": "stdout",
     "output_type": "stream",
     "text": [
      "['짱구', '철수', '훈이', '맹구', '유리']\n"
     ]
    }
   ],
   "source": [
    "# 5번\n",
    "student = [\"짱구\", \"철수\", \"훈이\", \"치타\", \"유리\", \"흰둥이\"]\n",
    "student[3] = \"맹구\"\n",
    "del student[-1]\n",
    "\n",
    "print(student)"
   ]
  },
  {
   "cell_type": "code",
   "execution_count": 27,
   "id": "43ccb864-022b-4af5-ada7-19ebfbb7ffc4",
   "metadata": {},
   "outputs": [
    {
     "name": "stdout",
     "output_type": "stream",
     "text": [
      "3\n"
     ]
    }
   ],
   "source": [
    "# 6번\n",
    "\n",
    "student = [\"짱구\", \"철수\", \"훈이\", \"맹구\", \"유리\", \"짱구\", \"짱구\"]\n",
    "print(student.count(\"짱구\"))"
   ]
  },
  {
   "cell_type": "code",
   "execution_count": 2,
   "id": "3feaaf77-4746-4b81-b535-1909a09ec6a5",
   "metadata": {},
   "outputs": [
    {
     "name": "stdout",
     "output_type": "stream",
     "text": [
      "['짱구', '철수', '흰둥이', '훈이', '맹구', '유리']\n"
     ]
    }
   ],
   "source": [
    "# 7번\n",
    "student = [\"짱구\", \"철수\", \"훈이\", \"맹구\", \"유리\"]\n",
    "index_num = student.index(\"훈이\")\n",
    "student.insert(index_num, \"흰둥이\")\n",
    "\n",
    "print(student)"
   ]
  },
  {
   "cell_type": "markdown",
   "id": "2d1e9ad9-7412-4177-9e4f-ba5f0564f806",
   "metadata": {},
   "source": [
    "### 4. 튜플"
   ]
  },
  {
   "cell_type": "code",
   "execution_count": 59,
   "id": "19437b6a-7ba8-45b6-b754-8623f2d685eb",
   "metadata": {},
   "outputs": [
    {
     "name": "stdout",
     "output_type": "stream",
     "text": [
      "짱구\n",
      "맹구\n"
     ]
    }
   ],
   "source": [
    "# 1번 \n",
    "\n",
    "student = (\"짱구\", \"철수\", \"훈이\", \"맹구\", \"유리\")\n",
    "print(student[0])\n",
    "print(student[3])"
   ]
  },
  {
   "cell_type": "code",
   "execution_count": 73,
   "id": "83468249-0002-49a5-8a76-dee9ba5bc52b",
   "metadata": {},
   "outputs": [
    {
     "name": "stdout",
     "output_type": "stream",
     "text": [
      "철수\n",
      "유리\n"
     ]
    }
   ],
   "source": [
    "# 2번\n",
    "\n",
    "student = (\"짱구\", \"철수\", (\"훈이\", \"맹구\", \"유리\"))\n",
    "print(student[1])\n",
    "print(student[2][2])"
   ]
  },
  {
   "cell_type": "code",
   "execution_count": 77,
   "id": "f6dde237-c145-42b0-899f-1e053d8c1a54",
   "metadata": {},
   "outputs": [
    {
     "name": "stdout",
     "output_type": "stream",
     "text": [
      "('훈이', '맹구')\n"
     ]
    }
   ],
   "source": [
    "# 3번 \n",
    "\n",
    "student = (\"짱구\", \"철수\", \"훈이\", \"맹구\", \"유리\")\n",
    "print(student[2:-1])"
   ]
  },
  {
   "cell_type": "code",
   "execution_count": 83,
   "id": "9f451d01-e473-47cc-b069-eb49f9b0d4fe",
   "metadata": {},
   "outputs": [
    {
     "name": "stdout",
     "output_type": "stream",
     "text": [
      "(1, 2, 3, 4)\n"
     ]
    }
   ],
   "source": [
    "# 4번\n",
    "a = (1, 2, 3)\n",
    "\n",
    "print(a + (4,))"
   ]
  },
  {
   "cell_type": "markdown",
   "id": "33faaca4-975a-4e06-a341-a4a2c9ca119b",
   "metadata": {},
   "source": [
    "### 5. 딕셔너리"
   ]
  },
  {
   "cell_type": "code",
   "execution_count": 4,
   "id": "e842b816-3a12-4900-a733-9d09e44a318e",
   "metadata": {},
   "outputs": [
    {
     "name": "stdout",
     "output_type": "stream",
     "text": [
      "{'class_name': '파이썬 기초', 'professor': '나교수', 'begin_date': '2024-08-01'}\n"
     ]
    }
   ],
   "source": [
    "# 1번\n",
    "first_class = {\"class_name\": \"파이썬 기초\", \"professor\": \"나교수\", \"begin_date\": \"2024-08-01\"}\n",
    "print(first_class)"
   ]
  },
  {
   "cell_type": "code",
   "execution_count": 6,
   "id": "a119b191-55af-4448-87c7-8b4bd65f970b",
   "metadata": {},
   "outputs": [
    {
     "name": "stdout",
     "output_type": "stream",
     "text": [
      "나교수\n"
     ]
    }
   ],
   "source": [
    "# 2번\n",
    "major_professor = first_class['professor']\n",
    "print(major_professor)"
   ]
  },
  {
   "cell_type": "code",
   "execution_count": 8,
   "id": "ea1aced3-48e6-4560-a11d-fcf39151de13",
   "metadata": {},
   "outputs": [
    {
     "name": "stdout",
     "output_type": "stream",
     "text": [
      "{'class_name': '파이썬 기초', 'professor': '나교수', 'begin_date': '2024-08-01', 'end_date': '2024-09-01', 'student_count': 30}\n"
     ]
    }
   ],
   "source": [
    "# 3번\n",
    "\n",
    "first_class['end_date'] = \"2024-09-01\"\n",
    "first_class['student_count'] = 30\n",
    "print(first_class)"
   ]
  },
  {
   "cell_type": "code",
   "execution_count": 10,
   "id": "d5ed2ccf-72d5-4f4e-83d2-c008957bb32b",
   "metadata": {},
   "outputs": [
    {
     "name": "stdout",
     "output_type": "stream",
     "text": [
      "{'class_name': '파이썬 심화', 'professor': '나교수', 'begin_date': '2024-08-01', 'end_date': '2024-09-01', 'student_count': 30}\n"
     ]
    }
   ],
   "source": [
    "# 4번\n",
    "\n",
    "first_class['class_name'] = \"파이썬 심화\"\n",
    "print(first_class)"
   ]
  },
  {
   "cell_type": "code",
   "execution_count": 12,
   "id": "d67d4882-f9fa-4950-9137-d70ebc14fad8",
   "metadata": {},
   "outputs": [
    {
     "name": "stdout",
     "output_type": "stream",
     "text": [
      "{'class_name': '파이썬 심화', 'professor': '나교수', 'begin_date': '2024-08-01', 'end_date': '2024-09-01'}\n"
     ]
    }
   ],
   "source": [
    "# 5번\n",
    "\n",
    "del first_class['student_count']\n",
    "print(first_class)"
   ]
  },
  {
   "cell_type": "markdown",
   "id": "3e53dea4-c4c2-4ac1-a1ba-fe5b7c773341",
   "metadata": {},
   "source": [
    "### 6. 집합"
   ]
  },
  {
   "cell_type": "code",
   "execution_count": 107,
   "id": "d6727dd9-effc-4f66-9ddd-5f715ebd3e11",
   "metadata": {},
   "outputs": [
    {
     "name": "stdout",
     "output_type": "stream",
     "text": [
      "{'하'}\n"
     ]
    }
   ],
   "source": [
    "# 1번\n",
    "\n",
    "name1 = set(\"김하나\")\n",
    "name2 = set(\"김하준\")\n",
    "name3 = set(\"이지하\")\n",
    "\n",
    "print(name1 & name2 & name3)"
   ]
  },
  {
   "cell_type": "code",
   "execution_count": 14,
   "id": "4618c216-42fd-4847-a494-d4348fd4caf6",
   "metadata": {},
   "outputs": [
    {
     "name": "stdout",
     "output_type": "stream",
     "text": [
      "이지하\n"
     ]
    }
   ],
   "source": [
    "# 2번\n",
    "\n",
    "name = set([\"김하나\", \"김하준\", \"이지하\"])\n",
    "name_list = list(name)\n",
    "person = name_list[1]\n",
    "\n",
    "print(person)"
   ]
  },
  {
   "cell_type": "markdown",
   "id": "53453fb0-e368-4e37-96d7-8e8260f20b37",
   "metadata": {},
   "source": [
    "### 7. 불(bool)"
   ]
  },
  {
   "cell_type": "code",
   "execution_count": 115,
   "id": "42ab81fb-ab8d-47a6-92e5-f8ab594b25a2",
   "metadata": {},
   "outputs": [
    {
     "name": "stdout",
     "output_type": "stream",
     "text": [
      "True\n",
      "False\n",
      "True\n",
      "False\n",
      "True\n"
     ]
    }
   ],
   "source": [
    "# 1번\n",
    "\n",
    "print( bool(5 < 10) ) # True\n",
    "print( bool(\"\") ) # False\n",
    "print( bool({\"name\" : \"이지은\"}) ) # True \n",
    "print( bool(()) ) # False\n",
    "print( bool(10) ) # True"
   ]
  },
  {
   "cell_type": "code",
   "execution_count": null,
   "id": "599ad5b2-547e-4841-ab33-91c50b8d6b33",
   "metadata": {},
   "outputs": [],
   "source": []
  }
 ],
 "metadata": {
  "kernelspec": {
   "display_name": "Python 3 (ipykernel)",
   "language": "python",
   "name": "python3"
  },
  "language_info": {
   "codemirror_mode": {
    "name": "ipython",
    "version": 3
   },
   "file_extension": ".py",
   "mimetype": "text/x-python",
   "name": "python",
   "nbconvert_exporter": "python",
   "pygments_lexer": "ipython3",
   "version": "3.12.4"
  }
 },
 "nbformat": 4,
 "nbformat_minor": 5
}
