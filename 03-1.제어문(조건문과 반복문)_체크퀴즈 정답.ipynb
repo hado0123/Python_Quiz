{
 "cells": [
  {
   "cell_type": "markdown",
   "id": "0db82249-4bf3-4764-95f3-9a2f14064dd8",
   "metadata": {},
   "source": [
    "### 1. if문"
   ]
  },
  {
   "cell_type": "code",
   "execution_count": 7,
   "id": "5d4a5974-1e3b-4eba-90d8-5cba365331e1",
   "metadata": {},
   "outputs": [
    {
     "name": "stdout",
     "output_type": "stream",
     "text": [
      "A 학점\n"
     ]
    }
   ],
   "source": [
    "# 1번\n",
    "score = 95\n",
    "\n",
    "if score >= 90:\n",
    "    print('A 학점')"
   ]
  },
  {
   "cell_type": "code",
   "execution_count": 13,
   "id": "d4f7d70b-ce22-48e1-baf8-d6b673ff721f",
   "metadata": {},
   "outputs": [
    {
     "name": "stdout",
     "output_type": "stream",
     "text": [
      "non pass\n"
     ]
    }
   ],
   "source": [
    "# 2번\n",
    "score = 70\n",
    "\n",
    "if score >= 80:\n",
    "    print('pass')\n",
    "else:\n",
    "    print('non pass')"
   ]
  },
  {
   "cell_type": "code",
   "execution_count": 29,
   "id": "1267ce93-3fae-42d7-9bbd-befeeafe68d2",
   "metadata": {},
   "outputs": [
    {
     "name": "stdout",
     "output_type": "stream",
     "text": [
      "D 학점\n"
     ]
    }
   ],
   "source": [
    "# 3번\n",
    "score = 68\n",
    "\n",
    "if score >= 90:\n",
    "    print('A 학점')\n",
    "elif score >= 80:\n",
    "    print('B 학점')\n",
    "elif score >= 70:\n",
    "    print('C 학점')\n",
    "elif score >= 60:\n",
    "    print('D 학점')\n",
    "else:\n",
    "    print('F 학점')"
   ]
  },
  {
   "cell_type": "markdown",
   "id": "9bca05b4-5013-4071-9183-665d7a5b3a0d",
   "metadata": {},
   "source": [
    "### 2. while문"
   ]
  },
  {
   "cell_type": "code",
   "execution_count": 33,
   "id": "3bdc7b25-711b-4536-bcfa-e554244ae12c",
   "metadata": {},
   "outputs": [
    {
     "name": "stdout",
     "output_type": "stream",
     "text": [
      "3\n",
      "5\n",
      "7\n",
      "9\n",
      "11\n",
      "13\n",
      "15\n",
      "17\n",
      "19\n",
      "21\n"
     ]
    }
   ],
   "source": [
    "# 1번\n",
    "i = 1\n",
    "\n",
    "while i <= 20:\n",
    "    i += 2\n",
    "    print(i)"
   ]
  },
  {
   "cell_type": "code",
   "execution_count": 35,
   "id": "e8d59e1b-f092-4224-9889-5530e0eb0c11",
   "metadata": {},
   "outputs": [
    {
     "name": "stdin",
     "output_type": "stream",
     "text": [
      " 2\n",
      " 5\n"
     ]
    }
   ],
   "source": [
    "# 2번\n",
    "\n",
    "while True:\n",
    "    num = int(input())\n",
    "    if num % 2 != 0: break"
   ]
  },
  {
   "cell_type": "code",
   "execution_count": 43,
   "id": "1e204b04-5559-4aa9-80d4-f97f7ecdfa9f",
   "metadata": {},
   "outputs": [
    {
     "name": "stdout",
     "output_type": "stream",
     "text": [
      "1\n",
      "2\n",
      "4\n",
      "5\n",
      "7\n",
      "8\n",
      "10\n"
     ]
    }
   ],
   "source": [
    "# 3번\n",
    "\n",
    "a = 0\n",
    "\n",
    "while a < 10:\n",
    "    a += 1\n",
    "    if a % 3 == 0: continue # 3의 배수일시 continue\n",
    "    print(a)\n"
   ]
  },
  {
   "cell_type": "markdown",
   "id": "670f6b16-2a87-425d-9195-cfc71574a256",
   "metadata": {},
   "source": [
    "### 3. for문"
   ]
  },
  {
   "cell_type": "code",
   "execution_count": 64,
   "id": "b1ed43cd-ec82-41b3-aaa5-f7f64c3bc312",
   "metadata": {},
   "outputs": [
    {
     "name": "stdout",
     "output_type": "stream",
     "text": [
      "1\n",
      "2\n",
      "3\n",
      "4\n",
      "5\n",
      "6\n",
      "7\n",
      "8\n",
      "9\n",
      "10\n",
      "11\n",
      "12\n",
      "13\n",
      "14\n",
      "15\n",
      "16\n",
      "17\n",
      "18\n",
      "19\n",
      "20\n",
      "21\n",
      "22\n",
      "23\n",
      "24\n",
      "25\n",
      "26\n",
      "27\n",
      "28\n",
      "29\n",
      "30\n",
      "31\n",
      "32\n",
      "33\n",
      "34\n",
      "35\n",
      "36\n",
      "37\n",
      "38\n",
      "39\n",
      "40\n",
      "41\n",
      "42\n",
      "43\n",
      "44\n",
      "45\n",
      "46\n",
      "47\n",
      "48\n",
      "49\n",
      "50\n",
      "51\n",
      "52\n",
      "53\n",
      "54\n",
      "55\n",
      "56\n",
      "57\n",
      "58\n",
      "59\n",
      "60\n",
      "61\n",
      "62\n",
      "63\n",
      "64\n",
      "65\n",
      "66\n",
      "67\n",
      "68\n",
      "69\n",
      "70\n",
      "71\n",
      "72\n",
      "73\n",
      "74\n",
      "75\n",
      "76\n",
      "77\n",
      "78\n",
      "79\n",
      "80\n",
      "81\n",
      "82\n",
      "83\n",
      "84\n",
      "85\n",
      "86\n",
      "87\n",
      "88\n",
      "89\n",
      "90\n",
      "91\n",
      "92\n",
      "93\n",
      "94\n",
      "95\n",
      "96\n",
      "97\n",
      "98\n",
      "99\n",
      "100\n"
     ]
    }
   ],
   "source": [
    "# 1번\n",
    "\n",
    "for i in range(1, 101):\n",
    "    print(i)\n"
   ]
  },
  {
   "cell_type": "code",
   "execution_count": 51,
   "id": "284bac12-10e3-43da-bbc0-3019a9178457",
   "metadata": {},
   "outputs": [
    {
     "name": "stdout",
     "output_type": "stream",
     "text": [
      "5050\n"
     ]
    }
   ],
   "source": [
    "# 2번\n",
    "sum = 0\n",
    "\n",
    "for i in range(1, 101):\n",
    "    sum += i\n",
    "\n",
    "print(sum)"
   ]
  },
  {
   "cell_type": "code",
   "execution_count": 61,
   "id": "13626bbb-6c54-4297-bd2f-a0270eb52938",
   "metadata": {},
   "outputs": [
    {
     "name": "stdout",
     "output_type": "stream",
     "text": [
      "4 8 12 16 20 24 28 32 36 \n",
      "5 10 15 20 25 30 35 40 45 \n",
      "6 12 18 24 30 36 42 48 54 \n"
     ]
    }
   ],
   "source": [
    "# 3번\n",
    "for i in range(4, 7): #  2 ~ 9\n",
    "    for j in range(1, 10): # 1 ~ 9\n",
    "        print(i * j, end=\" \") \n",
    "    print('')"
   ]
  },
  {
   "cell_type": "code",
   "execution_count": null,
   "id": "8b9e0aa9-1cbf-46b6-8f2f-ddef08d7074b",
   "metadata": {},
   "outputs": [],
   "source": []
  }
 ],
 "metadata": {
  "kernelspec": {
   "display_name": "Python 3 (ipykernel)",
   "language": "python",
   "name": "python3"
  },
  "language_info": {
   "codemirror_mode": {
    "name": "ipython",
    "version": 3
   },
   "file_extension": ".py",
   "mimetype": "text/x-python",
   "name": "python",
   "nbconvert_exporter": "python",
   "pygments_lexer": "ipython3",
   "version": "3.12.4"
  }
 },
 "nbformat": 4,
 "nbformat_minor": 5
}
