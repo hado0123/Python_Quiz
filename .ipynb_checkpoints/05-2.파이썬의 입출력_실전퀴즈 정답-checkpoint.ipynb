{
 "cells": [
  {
   "cell_type": "markdown",
   "id": "4c795cf7-c855-44fa-bdaf-18b17114785d",
   "metadata": {},
   "source": [
    "### 1. 초중급 level "
   ]
  },
  {
   "cell_type": "code",
   "execution_count": 13,
   "id": "76e92a64-bb36-4a32-8be3-9be3b9830552",
   "metadata": {},
   "outputs": [
    {
     "name": "stdin",
     "output_type": "stream",
     "text": [
      "첫 번째 숫자를 입력하세요:  3\n",
      "첫 번째 숫자를 입력하세요:  4\n"
     ]
    },
    {
     "name": "stdout",
     "output_type": "stream",
     "text": [
      "두 수의 합은 7입니다.\n"
     ]
    }
   ],
   "source": [
    "# 1번\n",
    "\n",
    "input1 = input(\"첫 번째 숫자를 입력하세요: \")\n",
    "input2 = input(\"첫 번째 숫자를 입력하세요: \")\n",
    "\n",
    "total = int(input1) + int(input2) # input은 기본적으로 문자형으로 값을 받으므로 숫자형으로 바꿔준다\n",
    "print(f'두 수의 합은 {total}입니다.')"
   ]
  },
  {
   "cell_type": "code",
   "execution_count": 15,
   "id": "b7adebb8-13a7-40f4-8e92-92acae25108c",
   "metadata": {},
   "outputs": [
    {
     "name": "stdout",
     "output_type": "stream",
     "text": [
      "Life is too short\n"
     ]
    }
   ],
   "source": [
    "# 2번\n",
    "f1 = open('C:/doit/quiz/test.txt', 'w')\n",
    "f1.write('Life is too short')\n",
    "f1.close() # 열린 파일 객체를 닫는다\n",
    "\n",
    "f2 = open('C:/doit/quiz/test.txt', 'r')\n",
    "print(f2.read())"
   ]
  },
  {
   "cell_type": "code",
   "execution_count": 63,
   "id": "7d833065-14fc-465a-b0cd-4e2d4de55ce0",
   "metadata": {},
   "outputs": [
    {
     "name": "stdin",
     "output_type": "stream",
     "text": [
      "저장할 내용을 입력하세요: hello!\n"
     ]
    }
   ],
   "source": [
    "# 3번\n",
    "user_input = input('저장할 내용을 입력하세요:')\n",
    "f = open('C:/doit/quiz/test.txt', 'a')\n",
    "f.write(f'\\n{user_input}')\n",
    "f.close()"
   ]
  },
  {
   "cell_type": "code",
   "execution_count": 23,
   "id": "deebdfcd-3068-4087-8581-08a19743d3d0",
   "metadata": {},
   "outputs": [],
   "source": [
    "# 4번\n",
    "f = open('C:/doit/quiz/test2.txt', 'r')\n",
    "body = f.read() # body변수에 test2내용을 저장\n",
    "f.close()\n",
    "\n",
    "body = body.replace('java', 'python') # body문자열에서 java를 python으로 변경\n",
    "\n",
    "f = open('C:/doit/quiz/test2.txt', 'w') # 쓰기모드\n",
    "f.write(body)\n",
    "f.close()"
   ]
  },
  {
   "cell_type": "code",
   "execution_count": 67,
   "id": "8e2e7ecd-8375-4c78-aff2-d7d323f257d9",
   "metadata": {},
   "outputs": [
    {
     "name": "stdout",
     "output_type": "stream",
     "text": [
      "['Hello.']\n",
      "['This', 'is', 'python', 'class.']\n",
      "['Welcome', 'python', 'class.']\n",
      "['Bye', 'python.']\n",
      "'python'의 등장 횟수: 2\n"
     ]
    }
   ],
   "source": [
    "# 5번\n",
    "\n",
    "# 파일에서 특정 단어의 개수를 세는 코드\n",
    "target_word = \"python\"\n",
    "count = 0\n",
    "\n",
    "with open('C:/doit/quiz/test3.txt', 'r') as file:\n",
    "    for line in file:\n",
    "        words = line.split() # 공백을 기준으로 문자열을 단어로 나눠 리스트로 저장\n",
    "        count += words.count(target_word) # 리스트 안에 'python' 요소가 몇개 있는지 조사\n",
    "\n",
    "print(f\"'{target_word}'의 등장 횟수: {count}\")"
   ]
  },
  {
   "cell_type": "markdown",
   "id": "93323715-4592-402c-8ca0-892490dc155b",
   "metadata": {},
   "source": [
    "### 2. 고급 level"
   ]
  },
  {
   "cell_type": "code",
   "execution_count": null,
   "id": "fd8e9faf-8736-47a2-906a-56e646370314",
   "metadata": {},
   "outputs": [],
   "source": [
    "# 1번\n",
    "# 로그 파일에서 'ERROR'가 포함된 줄을 추출하여 별도의 파일에 저장\n",
    "logfile = open('C:/doit/quiz/log.txt', 'r')\n",
    "errorfile = open('C:/doit/quiz/errors.txt', 'w')\n",
    "\n",
    "while True:\n",
    "    line = logfile.readline()\n",
    "    if not line:\n",
    "        break\n",
    "    if 'ERROR' in line:\n",
    "        errorfile.write(line)\n",
    "\n",
    "logfile.close()\n",
    "errorfile.close()"
   ]
  },
  {
   "cell_type": "code",
   "execution_count": null,
   "id": "ce04b0be-8cab-4a25-8b76-7ce4b62785b2",
   "metadata": {},
   "outputs": [],
   "source": [
    "# 2번\n",
    "\n",
    "# 두 파일을 비교하여 다른 부분을 출력\n",
    "file1 = open('C:/doit/quiz/file1.txt', 'r')\n",
    "file2 = open('C:/doit/quiz/file2.txt', 'r')\n",
    "\n",
    "file1_lines = file1.readlines()\n",
    "file2_lines = file2.readlines()\n",
    "\n",
    "# print(file1_lines)\n",
    "# print(min(len(file1_lines), len(file2_lines)))\n",
    "\n",
    "different = False\n",
    "for i in range(min(len(file1_lines), len(file2_lines))):\n",
    "    if file1_lines[i] != file2_lines[i]:\n",
    "        different = True\n",
    "        print(f\"차이 발견 - 줄 번호 {i + 1}:\")\n",
    "        print(f\"file1: {file1_lines[i].strip()}\")\n",
    "        print(f\"file2: {file2_lines[i].strip()}\")\n",
    "\n",
    "if len(file1_lines) != len(file2_lines):\n",
    "    different = True\n",
    "    print(\"두 파일의 줄 수가 다릅니다.\")\n",
    "\n",
    "if not different:\n",
    "    print(\"두 파일은 동일합니다.\")\n",
    "\n",
    "file1.close()\n",
    "file2.close()"
   ]
  }
 ],
 "metadata": {
  "kernelspec": {
   "display_name": "Python 3 (ipykernel)",
   "language": "python",
   "name": "python3"
  },
  "language_info": {
   "codemirror_mode": {
    "name": "ipython",
    "version": 3
   },
   "file_extension": ".py",
   "mimetype": "text/x-python",
   "name": "python",
   "nbconvert_exporter": "python",
   "pygments_lexer": "ipython3",
   "version": "3.12.4"
  }
 },
 "nbformat": 4,
 "nbformat_minor": 5
}
