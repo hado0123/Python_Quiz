{
 "cells": [
  {
   "cell_type": "markdown",
   "id": "53461109-e018-4991-a67b-87952e9ac494",
   "metadata": {},
   "source": [
    "### 1. 초~중급 Level"
   ]
  },
  {
   "cell_type": "code",
   "execution_count": 12,
   "id": "67a9a6c5-359c-41d7-b772-33a674c7d5c4",
   "metadata": {},
   "outputs": [
    {
     "name": "stdout",
     "output_type": "stream",
     "text": [
      "78.33333333333333점\n"
     ]
    }
   ],
   "source": [
    "# 1번\n",
    "\n",
    "kor = 80 # 국어\n",
    "eng = 65 # 영어\n",
    "math = 90 # 수학\n",
    "average = (kor + eng + math) / 3\n",
    "\n",
    "print(f'{average}점')"
   ]
  },
  {
   "cell_type": "code",
   "execution_count": 22,
   "id": "d617f00a-0dc1-40d4-8a27-c2c86559f430",
   "metadata": {},
   "outputs": [
    {
     "name": "stdout",
     "output_type": "stream",
     "text": [
      "930516\n",
      "2234567\n"
     ]
    }
   ],
   "source": [
    "# 2번\n",
    "\n",
    "ssn = \"930516-2234567\"\n",
    "birth = ssn[:6] #생년월일\n",
    "num = ssn[7:] #주민번호 뒷자리\n",
    "\n",
    "print(birth)\n",
    "print(num)"
   ]
  },
  {
   "cell_type": "code",
   "execution_count": 24,
   "id": "16fab1b7-6a6a-4a40-9f21-210a3266b527",
   "metadata": {},
   "outputs": [
    {
     "name": "stdout",
     "output_type": "stream",
     "text": [
      "2\n"
     ]
    }
   ],
   "source": [
    "# 3번\n",
    "\n",
    "ssn = \"930516-2234567\"\n",
    "print(ssn[7])"
   ]
  },
  {
   "cell_type": "code",
   "execution_count": 28,
   "id": "42d035b2-a38b-4083-b79e-3904e922c300",
   "metadata": {},
   "outputs": [
    {
     "name": "stdout",
     "output_type": "stream",
     "text": [
      "김무열- 오지영- 서지우- 안서준- 김하윤- 장지희\n"
     ]
    }
   ],
   "source": [
    "# 4번\n",
    "\n",
    "employee = \"김무열, 오지영, 서지우, 안서준, 김하윤, 장지희\"\n",
    "result = employee.replace(',', '-')\n",
    "print(result)"
   ]
  },
  {
   "cell_type": "code",
   "execution_count": 2,
   "id": "d42f8d73-eb02-4eb6-9901-87ae85cc7c28",
   "metadata": {},
   "outputs": [
    {
     "name": "stdout",
     "output_type": "stream",
     "text": [
      "[5, 4, 3, 2, 1]\n"
     ]
    }
   ],
   "source": [
    "# 5번\n",
    "\n",
    "a = [1, 3, 5, 4, 2]\n",
    "a.sort() # 오름차순 정렬\n",
    "a.reverse() # 거꾸로 정렬\n",
    "print(a)"
   ]
  },
  {
   "cell_type": "code",
   "execution_count": 6,
   "id": "9e158a21-6a09-431c-a6f3-c874343b8645",
   "metadata": {},
   "outputs": [
    {
     "name": "stdout",
     "output_type": "stream",
     "text": [
      "Life is too short\n"
     ]
    }
   ],
   "source": [
    "# 6번\n",
    "a = ['Life', 'is', 'too', 'short'] \n",
    "result = \" \".join(a)\n",
    "print(result)"
   ]
  },
  {
   "cell_type": "code",
   "execution_count": 10,
   "id": "c48b62ec-de6c-4a07-8a3c-da493e4cd833",
   "metadata": {},
   "outputs": [
    {
     "ename": "TypeError",
     "evalue": "unhashable type: 'list'",
     "output_type": "error",
     "traceback": [
      "\u001b[1;31m---------------------------------------------------------------------------\u001b[0m",
      "\u001b[1;31mTypeError\u001b[0m                                 Traceback (most recent call last)",
      "Cell \u001b[1;32mIn[10], line 7\u001b[0m\n\u001b[0;32m      5\u001b[0m a[\u001b[38;5;124m'\u001b[39m\u001b[38;5;124mname\u001b[39m\u001b[38;5;124m'\u001b[39m] \u001b[38;5;241m=\u001b[39m \u001b[38;5;124m'\u001b[39m\u001b[38;5;124mpython\u001b[39m\u001b[38;5;124m'\u001b[39m\n\u001b[0;32m      6\u001b[0m a[(\u001b[38;5;124m'\u001b[39m\u001b[38;5;124ma\u001b[39m\u001b[38;5;124m'\u001b[39m,)] \u001b[38;5;241m=\u001b[39m \u001b[38;5;124m'\u001b[39m\u001b[38;5;124mpython\u001b[39m\u001b[38;5;124m'\u001b[39m\n\u001b[1;32m----> 7\u001b[0m a[[\u001b[38;5;241m1\u001b[39m]] \u001b[38;5;241m=\u001b[39m \u001b[38;5;124m'\u001b[39m\u001b[38;5;124mpython\u001b[39m\u001b[38;5;124m'\u001b[39m \u001b[38;5;66;03m# 오류 발생: 키로 사용한 [1]은 리스트 이므로 변하는 값. key에 변하는 값은 사용 불가능. key는 문자열, 튜플, 숫자 등 변하지 않는 값만 사용 가능.\u001b[39;00m\n\u001b[0;32m      8\u001b[0m a[\u001b[38;5;241m250\u001b[39m] \u001b[38;5;241m=\u001b[39m \u001b[38;5;124m'\u001b[39m\u001b[38;5;124mpython\u001b[39m\u001b[38;5;124m'\u001b[39m\n",
      "\u001b[1;31mTypeError\u001b[0m: unhashable type: 'list'"
     ]
    }
   ],
   "source": [
    "# 7번\n",
    "\n",
    "a = dict()\n",
    "\n",
    "a['name'] = 'python'\n",
    "a[('a',)] = 'python'\n",
    "a[[1]] = 'python' # 오류 발생: 키로 사용한 [1]은 리스트 이므로 변하는 값. key에 변하는 값은 사용 불가능. key는 문자열, 튜플, 숫자 등 변하지 않는 값만 사용 가능.\n",
    "a[250] = 'python'"
   ]
  },
  {
   "cell_type": "code",
   "execution_count": 4,
   "id": "14554d07-3278-4b95-ba46-73b2c52bcd2b",
   "metadata": {},
   "outputs": [
    {
     "name": "stdout",
     "output_type": "stream",
     "text": [
      "[1, 2, 3, 4, 5]\n"
     ]
    }
   ],
   "source": [
    "# 8번 \n",
    "\n",
    "a = [1, 1, 1, 2, 2, 3, 3, 3, 4, 4, 5]\n",
    "a_set = set(a) # 집합 자료형으로 변경\n",
    "b = list(a_set) # 집합 자료형을 리스트로 변경\n",
    "print(b)"
   ]
  },
  {
   "cell_type": "code",
   "execution_count": 22,
   "id": "7a2e4866-9cf5-456b-a53b-5637ca2823ac",
   "metadata": {},
   "outputs": [
    {
     "name": "stdout",
     "output_type": "stream",
     "text": [
      "[1, 4, 3]\n"
     ]
    }
   ],
   "source": [
    "# 9번\n",
    "\n",
    "a = b = [1, 2, 3]\n",
    "a[1] = 4\n",
    "print(b)\n",
    "\n",
    "# a와 b변수는 동일한 리스트 객체를 가르키고 있기 때문이다. 실제 a, b 변수는 스택에서 주소를 가지고 있고 해당 주소를 따라 힙에가야 실제 리스트 데이터가 존재하는데\n",
    "# a와 b변수가 가지고 있는 주소가 같다."
   ]
  },
  {
   "cell_type": "markdown",
   "id": "9541845e-83db-4277-91c2-0b702e30e53c",
   "metadata": {},
   "source": [
    "### 2. 고급 Level"
   ]
  },
  {
   "cell_type": "code",
   "execution_count": 34,
   "id": "592da0fe-7195-4504-a2a8-38fd33590714",
   "metadata": {},
   "outputs": [
    {
     "name": "stdout",
     "output_type": "stream",
     "text": [
      "331\n"
     ]
    }
   ],
   "source": [
    "# 10번\n",
    "\n",
    "num = 333\n",
    "print(num // 10 * 10 + 1)"
   ]
  },
  {
   "cell_type": "code",
   "execution_count": 50,
   "id": "51e1982e-d85d-4851-97f3-4195943879d3",
   "metadata": {},
   "outputs": [
    {
     "name": "stdout",
     "output_type": "stream",
     "text": [
      "[0, 1, 2, 3, 4, 5, 6]\n",
      "2\n"
     ]
    }
   ],
   "source": [
    "# 11번\n",
    "\n",
    "num = [3, 1, 2, 4, 6, 2, 3, 5, 0, 0]\n",
    "k = 3 # 세번째\n",
    "\n",
    "result = list(set(num))\n",
    "# print(result)\n",
    "print(result[k-1])"
   ]
  },
  {
   "cell_type": "code",
   "execution_count": 2,
   "id": "1a8511cc-dcc8-46e4-a669-4e3ec6f39d79",
   "metadata": {},
   "outputs": [
    {
     "name": "stdout",
     "output_type": "stream",
     "text": [
      "True\n"
     ]
    }
   ],
   "source": [
    "# 12번\n",
    "\n",
    "word1 = \"listen\"\n",
    "word2 = \"silent\"\n",
    "\n",
    "word1_list = list(word1)\n",
    "word2_list = list(word2)\n",
    "\n",
    "word1_list.sort()\n",
    "word2_list.sort()\n",
    "\n",
    "print(word1_list == word2_list)"
   ]
  }
 ],
 "metadata": {
  "kernelspec": {
   "display_name": "Python 3 (ipykernel)",
   "language": "python",
   "name": "python3"
  },
  "language_info": {
   "codemirror_mode": {
    "name": "ipython",
    "version": 3
   },
   "file_extension": ".py",
   "mimetype": "text/x-python",
   "name": "python",
   "nbconvert_exporter": "python",
   "pygments_lexer": "ipython3",
   "version": "3.12.4"
  }
 },
 "nbformat": 4,
 "nbformat_minor": 5
}
