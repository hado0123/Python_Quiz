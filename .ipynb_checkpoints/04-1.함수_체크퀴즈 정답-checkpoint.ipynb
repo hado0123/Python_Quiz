{
 "cells": [
  {
   "cell_type": "markdown",
   "id": "ea46f9b7-2880-4316-a833-02f911c587f3",
   "metadata": {},
   "source": [
    "### 1. 함수의 정의와 사용"
   ]
  },
  {
   "cell_type": "code",
   "execution_count": 73,
   "id": "899825e3-45e5-4c3c-8ba6-55f58d616390",
   "metadata": {},
   "outputs": [
    {
     "data": {
      "text/plain": [
       "6"
      ]
     },
     "execution_count": 73,
     "metadata": {},
     "output_type": "execute_result"
    }
   ],
   "source": [
    "# 1번\n",
    "def multiply(a, b):\n",
    "    return a * b\n",
    "\n",
    "multiply(2, 3)"
   ]
  },
  {
   "cell_type": "code",
   "execution_count": 75,
   "id": "e0f13594-a2c7-4815-92b7-4f2df7bdf986",
   "metadata": {},
   "outputs": [
    {
     "name": "stdout",
     "output_type": "stream",
     "text": [
      "6\n"
     ]
    }
   ],
   "source": [
    "# 2번\n",
    "def multiply(a, b):\n",
    "    print(a * b)\n",
    "\n",
    "multiply(2, 3)"
   ]
  },
  {
   "cell_type": "code",
   "execution_count": 77,
   "id": "2aa17ed5-e234-4a10-87c6-770566d0f1ed",
   "metadata": {},
   "outputs": [
    {
     "data": {
      "text/plain": [
       "5.0"
      ]
     },
     "execution_count": 77,
     "metadata": {},
     "output_type": "execute_result"
    }
   ],
   "source": [
    "# 3번\n",
    "def divide():\n",
    "    a = 10\n",
    "    b  = 2\n",
    "    \n",
    "    return a / b\n",
    "\n",
    "divide()"
   ]
  },
  {
   "cell_type": "code",
   "execution_count": 79,
   "id": "76cfe689-c930-4d95-8978-b26bcaa25c4f",
   "metadata": {},
   "outputs": [
    {
     "name": "stdout",
     "output_type": "stream",
     "text": [
      "재밌는 파이썬~\n"
     ]
    }
   ],
   "source": [
    "# 4번\n",
    "def print_str():\n",
    "    print('재밌는 파이썬~')\n",
    "\n",
    "print_str()"
   ]
  },
  {
   "cell_type": "markdown",
   "id": "d668eb6a-6e6e-4af8-bbeb-329cd0926a3e",
   "metadata": {},
   "source": [
    "### 2. 매개변수의 다양한 활용과 리턴값"
   ]
  },
  {
   "cell_type": "code",
   "execution_count": 82,
   "id": "2378db51-c6e2-4874-b002-b62c06167ce7",
   "metadata": {},
   "outputs": [
    {
     "name": "stdout",
     "output_type": "stream",
     "text": [
      "6\n",
      "120\n"
     ]
    }
   ],
   "source": [
    "# 1번\n",
    "\n",
    "def multiply_many(*args):\n",
    "    result = 1\n",
    "    for i in args:\n",
    "        result *= i\n",
    "    return result\n",
    "\n",
    "a = multiply_many(1, 2, 3)\n",
    "print(a) \n",
    "\n",
    "a = multiply_many(1, 2, 3, 4, 5)\n",
    "print(a) "
   ]
  },
  {
   "cell_type": "code",
   "execution_count": 84,
   "id": "344b8e2d-be40-4280-a428-36507bd18726",
   "metadata": {},
   "outputs": [
    {
     "name": "stdout",
     "output_type": "stream",
     "text": [
      "{'name': '김영대', 'phone': '010-2222-3333', 'address': '서울시 양천구'}\n"
     ]
    }
   ],
   "source": [
    "# 2번\n",
    "\n",
    "def student_info(**info):\n",
    "    print(info)\n",
    "\n",
    "student_info(name='김영대', phone='010-2222-3333', address='서울시 양천구')"
   ]
  },
  {
   "cell_type": "code",
   "execution_count": 86,
   "id": "ee51f5da-d16d-461b-b71c-981661d70351",
   "metadata": {},
   "outputs": [
    {
     "name": "stdout",
     "output_type": "stream",
     "text": [
      "7\n",
      "-1\n",
      "12\n"
     ]
    }
   ],
   "source": [
    "# 3번\n",
    "\n",
    "def calc(a, b):\n",
    "    return a + b, a - b, a * b\n",
    "\n",
    "result1, result2, result3 = calc(3, 4)\n",
    "\n",
    "print(result1)\n",
    "print(result2)\n",
    "print(result3)"
   ]
  },
  {
   "cell_type": "code",
   "execution_count": 88,
   "id": "7126f6f9-eee0-448b-8b3d-b6b77b556ea3",
   "metadata": {},
   "outputs": [
    {
     "name": "stdout",
     "output_type": "stream",
     "text": [
      "김지은\n"
     ]
    }
   ],
   "source": [
    "# 4번\n",
    "\n",
    "def  print_name(name): \n",
    "    if name == '김영대': return\n",
    "    else: print(name)\n",
    "\n",
    "print_name('김영대')\n",
    "print_name('김지은')"
   ]
  },
  {
   "cell_type": "code",
   "execution_count": 90,
   "id": "c3fa1ef3-313e-4aa3-ab66-3b781c092c2d",
   "metadata": {},
   "outputs": [
    {
     "data": {
      "text/plain": [
       "6"
      ]
     },
     "execution_count": 90,
     "metadata": {},
     "output_type": "execute_result"
    }
   ],
   "source": [
    "# 5번\n",
    "\n",
    "def add(a, c, b=2):\n",
    "    return a + b + c\n",
    "\n",
    "add(1, 3)"
   ]
  },
  {
   "cell_type": "markdown",
   "id": "cf9e968c-1f06-4f7b-bf07-022ed8f4439b",
   "metadata": {},
   "source": [
    "### 3. 함수의 범위"
   ]
  },
  {
   "cell_type": "code",
   "execution_count": 101,
   "id": "ae5e8cc0-1b25-439c-8832-8b02f4c28495",
   "metadata": {},
   "outputs": [
    {
     "name": "stdout",
     "output_type": "stream",
     "text": [
      "10\n"
     ]
    }
   ],
   "source": [
    "# 1번\n",
    "\n",
    "age = 10\n",
    "def age_add(age):\n",
    "    age = age + 10\n",
    "\n",
    "age_add(age)\n",
    "\n",
    "print(age)\n",
    "\n",
    "#출력결과가 10인 이유: 전역변수 age를 출력했기 때문이다. 함수 내부의 age는 지역변수로서 해당 함수 안에서만 사용가능하다."
   ]
  },
  {
   "cell_type": "code",
   "execution_count": 103,
   "id": "df1d0dec-a23f-4c17-a659-de27cc329d75",
   "metadata": {},
   "outputs": [
    {
     "name": "stdout",
     "output_type": "stream",
     "text": [
      "20\n"
     ]
    }
   ],
   "source": [
    "# 1번 수정: return 이용\n",
    "\n",
    "age = 10\n",
    "def age_add(age):\n",
    "    age = age + 10\n",
    "    return age\n",
    "\n",
    "age = age_add(age)\n",
    "\n",
    "print(age)\n"
   ]
  },
  {
   "cell_type": "code",
   "execution_count": 105,
   "id": "c784a1c0-4fa3-46d2-a348-67e74ed4a797",
   "metadata": {},
   "outputs": [
    {
     "name": "stdout",
     "output_type": "stream",
     "text": [
      "20\n"
     ]
    }
   ],
   "source": [
    "# 1번 수정: global 이용\n",
    "\n",
    "age = 10\n",
    "def age_add():\n",
    "    global age\n",
    "    age = age + 10\n",
    "\n",
    "age_add()\n",
    "\n",
    "print(age)"
   ]
  }
 ],
 "metadata": {
  "kernelspec": {
   "display_name": "Python 3 (ipykernel)",
   "language": "python",
   "name": "python3"
  },
  "language_info": {
   "codemirror_mode": {
    "name": "ipython",
    "version": 3
   },
   "file_extension": ".py",
   "mimetype": "text/x-python",
   "name": "python",
   "nbconvert_exporter": "python",
   "pygments_lexer": "ipython3",
   "version": "3.12.4"
  }
 },
 "nbformat": 4,
 "nbformat_minor": 5
}
