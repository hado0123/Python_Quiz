{
 "cells": [
  {
   "cell_type": "markdown",
   "id": "43a7155d-8857-4535-a840-65009f837640",
   "metadata": {},
   "source": [
    "### 1. 초중급 level"
   ]
  },
  {
   "cell_type": "code",
   "execution_count": 42,
   "id": "0a7f5d3a-32ce-4743-9d3f-f5b0cf29ead0",
   "metadata": {},
   "outputs": [
    {
     "name": "stdout",
     "output_type": "stream",
     "text": [
      "Welcome, Bob!\n",
      "Good to see you, Jane!\n"
     ]
    }
   ],
   "source": [
    "# 1번\n",
    "\n",
    "def greet(name, message=\"Welcome\"):\n",
    "    return f\"{message}, {name}!\"\n",
    "\n",
    "result1 = greet(\"Bob\")\n",
    "result2 = greet(\"Jane\", \"Good to see you\")\n",
    "\n",
    "print(result1)\n",
    "print(result2)"
   ]
  },
  {
   "cell_type": "code",
   "execution_count": 50,
   "id": "a9d1e87f-81d2-4bd1-948a-80fdfd735863",
   "metadata": {},
   "outputs": [
    {
     "name": "stdout",
     "output_type": "stream",
     "text": [
      "My name is Alice, I am 25 years old, and I live in New York.\n",
      "My name is Bob, I am 30 years old, and I live in Los Angeles.\n"
     ]
    }
   ],
   "source": [
    "# 2번\n",
    "\n",
    "def introduce(name, age, city):\n",
    "    return f\"My name is {name}, I am {age} years old, and I live in {city}.\"\n",
    "\n",
    "print(introduce(name=\"Alice\", age=25, city=\"New York\"))\n",
    "print(introduce(age=30, name=\"Bob\", city=\"Los Angeles\"))"
   ]
  },
  {
   "cell_type": "code",
   "execution_count": 52,
   "id": "080710c1-3392-4af3-bc44-aa9a4c873e3a",
   "metadata": {},
   "outputs": [
    {
     "data": {
      "text/plain": [
       "False"
      ]
     },
     "execution_count": 52,
     "metadata": {},
     "output_type": "execute_result"
    }
   ],
   "source": [
    "# 3번 \n",
    "def is_odd(number):\n",
    "    if number % 2 == 0:\n",
    "        return True\n",
    "    else: \n",
    "        return False\n",
    "\n",
    "\n",
    "is_odd(5)\n"
   ]
  },
  {
   "cell_type": "code",
   "execution_count": 80,
   "id": "b8d33092-bfaa-47a1-8906-c5f29658612f",
   "metadata": {},
   "outputs": [
    {
     "data": {
      "text/plain": [
       "0.001953125"
      ]
     },
     "execution_count": 80,
     "metadata": {},
     "output_type": "execute_result"
    }
   ],
   "source": [
    "# 4번 \n",
    "\n",
    "weight = 50\n",
    "height = 160\n",
    "\n",
    "def get_bmi(weight, height):\n",
    "    bmi = weight / (height * height)\n",
    "    return bmi\n",
    "\n",
    "get_bmi(weight, height)"
   ]
  },
  {
   "cell_type": "code",
   "execution_count": 82,
   "id": "81ee1520-1c6f-4527-8cd8-7df78f3d204d",
   "metadata": {},
   "outputs": [
    {
     "name": "stdout",
     "output_type": "stream",
     "text": [
      "합계: 451\n",
      "평균: 75.16666666666667\n"
     ]
    }
   ],
   "source": [
    "# 5번\n",
    "\n",
    "def get_sum_average(*scores):\n",
    "    sum = 0\n",
    "    for score in scores:\n",
    "        sum += score\n",
    "    average = sum / len(scores)\n",
    "    return sum, average\n",
    "\n",
    "sum, average = get_sum_average(70, 90, 98, 60, 34, 99)\n",
    "\n",
    "print(\"합계:\", sum)\n",
    "print(\"평균:\", average)"
   ]
  },
  {
   "cell_type": "markdown",
   "id": "eab9afee-9076-492b-872d-10dd683707a7",
   "metadata": {},
   "source": [
    "### 2. 고급 level"
   ]
  },
  {
   "cell_type": "code",
   "execution_count": 58,
   "id": "03f7f4bf-6020-403a-a4da-3b0d7b890451",
   "metadata": {},
   "outputs": [
    {
     "name": "stdout",
     "output_type": "stream",
     "text": [
      "6\n"
     ]
    }
   ],
   "source": [
    "# 1번\n",
    "\n",
    "def factorial(n):\n",
    "    if n == 0:\n",
    "        return 1\n",
    "    else:\n",
    "        return n * factorial(n-1)\n",
    "\n",
    "print(factorial(3))\n"
   ]
  },
  {
   "cell_type": "code",
   "execution_count": 60,
   "id": "6094120c-1a6e-4a7a-adcc-a5daebcf73db",
   "metadata": {},
   "outputs": [
    {
     "name": "stdout",
     "output_type": "stream",
     "text": [
      "[4, 8, 12]\n"
     ]
    }
   ],
   "source": [
    "# 2번\n",
    "\n",
    "def double_even_numbers(numbers):\n",
    "    return [n * 2 for n in numbers if n % 2 == 0]\n",
    "\n",
    "print(double_even_numbers([1, 2, 3, 4, 5, 6]))\n"
   ]
  },
  {
   "cell_type": "code",
   "execution_count": 84,
   "id": "b2e0fc33-937e-4bbe-b693-3f0b5aa8b7a6",
   "metadata": {},
   "outputs": [
    {
     "name": "stdout",
     "output_type": "stream",
     "text": [
      "9\n"
     ]
    }
   ],
   "source": [
    "# 3번: 최대값\n",
    "\n",
    "def find_max(numbers):\n",
    "    if not numbers:\n",
    "        return None  # 리스트가 비어 있을 때 None 반환\n",
    "\n",
    "    max_value = numbers[0]\n",
    "    for num in numbers[1:]:\n",
    "        if num > max_value:\n",
    "            max_value = num\n",
    "    return max_value\n",
    "\n",
    "# 테스트\n",
    "print(find_max([3, 1, 4, 1, 5, 9, 2, 6]))  # 출력: 9\n"
   ]
  },
  {
   "cell_type": "code",
   "execution_count": 88,
   "id": "9a0ba1bc-49fa-428a-986b-a3efd82a5cad",
   "metadata": {},
   "outputs": [
    {
     "name": "stdout",
     "output_type": "stream",
     "text": [
      "1\n"
     ]
    }
   ],
   "source": [
    "# 3번: 최소값\n",
    "\n",
    "def find_min(numbers):\n",
    "    if not numbers:\n",
    "        return None  # 리스트가 비어 있을 때 None 반환\n",
    "\n",
    "    min_value = numbers[0]\n",
    "    for num in numbers[1:]:\n",
    "        if num < min_value:\n",
    "            min_value = num\n",
    "    return min_value\n",
    "\n",
    "# 테스트\n",
    "print(find_min([3, 1, 4, 1, 5, 9, 2, 6]))  # 출력: 1\n"
   ]
  },
  {
   "cell_type": "code",
   "execution_count": 90,
   "id": "60d4b03c-f94a-4544-beeb-3a72bf4d0b3a",
   "metadata": {},
   "outputs": [
    {
     "name": "stdout",
     "output_type": "stream",
     "text": [
      "[0, 1]\n"
     ]
    }
   ],
   "source": [
    "# 4번\n",
    "\n",
    "def two_sum(nums, target):\n",
    "    num_map = {}\n",
    "    for i, num in enumerate(nums):\n",
    "        complement = target - num\n",
    "        if complement in num_map:\n",
    "            return [num_map[complement], i]\n",
    "        num_map[num] = i\n",
    "\n",
    "# 테스트\n",
    "print(two_sum([2, 7, 11, 15], 9))  # 출력: [0, 1]\n"
   ]
  }
 ],
 "metadata": {
  "kernelspec": {
   "display_name": "Python 3 (ipykernel)",
   "language": "python",
   "name": "python3"
  },
  "language_info": {
   "codemirror_mode": {
    "name": "ipython",
    "version": 3
   },
   "file_extension": ".py",
   "mimetype": "text/x-python",
   "name": "python",
   "nbconvert_exporter": "python",
   "pygments_lexer": "ipython3",
   "version": "3.12.4"
  }
 },
 "nbformat": 4,
 "nbformat_minor": 5
}
